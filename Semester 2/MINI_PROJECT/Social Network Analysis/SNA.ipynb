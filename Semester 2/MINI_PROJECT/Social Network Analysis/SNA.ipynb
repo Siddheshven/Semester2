{
 "cells": [
  {
   "cell_type": "code",
   "execution_count": 1,
   "id": "8f636377",
   "metadata": {},
   "outputs": [],
   "source": [
    "import nltk\n",
    "from nltk.corpus import stopwords, twitter_samples\n",
    "from nltk.sentiment import SentimentIntensityAnalyzer\n",
    "from statistics import mean\n",
    "from random import shuffle\n",
    "from colorama import Fore"
   ]
  },
  {
   "cell_type": "code",
   "execution_count": 2,
   "id": "af95b8e6",
   "metadata": {},
   "outputs": [
    {
     "data": {
      "text/plain": [
       "{'neg': 0.0, 'neu': 0.594, 'pos': 0.406, 'compound': 0.6249}"
      ]
     },
     "execution_count": 2,
     "metadata": {},
     "output_type": "execute_result"
    }
   ],
   "source": [
    "sia = SentimentIntensityAnalyzer()\n",
    "sia.polarity_scores(\"NLTK is a great package to perform NLP.\")"
   ]
  },
  {
   "cell_type": "code",
   "execution_count": 5,
   "id": "c8a65b94",
   "metadata": {},
   "outputs": [
    {
     "name": "stdout",
     "output_type": "stream",
     "text": [
      "\u001b[33mRT @hopenothate: #AskNigelFarage Farage says his party aren't racist http://t.co/05MWuxsTrS\n",
      "\u001b[34m@hazelcowan @Historywoman @NariceB @iainjwatson and she kids on that an SNP vote next year is a mandate for Indy#2 when it isn't.\n",
      "\u001b[33m@jessicaswift_13 Hi! Saw who u follow and thought u might like \"Dark\" https://t.co/QSaoyO8CIk .Plz let us know what u think :)\n",
      "\u001b[34mRT @Ed_Miliband: I want to be completely clear: there will no coalition and no deals with the SNP. #bbcqt\n",
      "\u001b[34mRT @mmaher70: Clegg voted for everyone of those welfare reforms and voted for millionaires tax cuts and hedge funds. #bbcqt\n",
      "\u001b[33mRT @CharlieElphicke: Labour spent too much &amp; borrowed too much. Ed Miliband makes it clear they aren't sorry &amp; would do it all over again h…\n",
      "\u001b[34mRT @BuntinRobert: The finest reply to Ed M's dismissal of Scots' democratic votes is to deliver 59 SNP MPs.\n",
      "\u001b[34mi feel sick :-(\n",
      "\u001b[33mA breath of political fresh air.... https://t.co/xBbRMMHgZK\n",
      "\u001b[34m@seiyaharris that sucks :(\n",
      "\u001b[33mRT @Mr_Slater: People have lost faith in politics because people like Cameron and Clegg go against their promises. #BBCQT http://t.co/UGEog…\n",
      "\u001b[33m@Joey_Shreds say hi :)\n",
      "\u001b[33mRT @Tommy_Colc: Financial Times come out in support of Tories claiming Miliband is \"preoccupied w/ inequality\". The man who wrote it http:/…\n",
      "\u001b[34m#cuba #ESPANA: Ed Miliband: 'Prefiero no ser primer ministro a pactar con el SNP' http://t.co/7T50JCLApy #venezuela\n",
      "\u001b[34meveryone makes mistakes ok :(((\n",
      "\u001b[34mRT @thomasmessenger: For all Tories claiming that Labour overspent and thus caused a global financial crisis, ahem... http://t.co/DkLwCwzhDA\n",
      "\u001b[33mRT @NicolaSturgeon: If Miliband is going to let Tories in rather than work with SNP, we will definitely need lots of SNP MPs to protect Sco…\n",
      "\u001b[33mRT @mrjamesmack: Why wasn't this the Labour line? \"the SNP should support us when we remove Cameron, but we won't support their plans to br…\n",
      "\u001b[34m@@JulietteMaughan realising that I never received my copies of #Sensiesha :(\n",
      "\u001b[33m@SurreyHillsBrew ...and when we play the Al***n, he'll score all fucking night :)\n"
     ]
    }
   ],
   "source": [
    "yellow = Fore.YELLOW\n",
    "blue = Fore.BLUE\n",
    "\n",
    "def ispositive(tweet : str) -> bool:\n",
    "    return sia.polarity_scores(tweet)[\"compound\"] > 0\n",
    "\n",
    "tweets = [tweet for tweet in twitter_samples.strings()]\n",
    "shuffle(tweets)\n",
    "\n",
    "for tweet in tweets[ : 20]:\n",
    "    color = yellow\n",
    "    if not ispositive(tweet):\n",
    "        color = blue\n",
    "    print(f\"{color}{tweet}\")"
   ]
  },
  {
   "cell_type": "code",
   "execution_count": null,
   "id": "5da1fd55",
   "metadata": {},
   "outputs": [],
   "source": []
  }
 ],
 "metadata": {
  "kernelspec": {
   "display_name": "Python 3 (ipykernel)",
   "language": "python",
   "name": "python3"
  },
  "language_info": {
   "codemirror_mode": {
    "name": "ipython",
    "version": 3
   },
   "file_extension": ".py",
   "mimetype": "text/x-python",
   "name": "python",
   "nbconvert_exporter": "python",
   "pygments_lexer": "ipython3",
   "version": "3.7.4"
  }
 },
 "nbformat": 4,
 "nbformat_minor": 5
}
